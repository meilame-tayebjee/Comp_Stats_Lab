{
 "cells": [
  {
   "cell_type": "markdown",
   "metadata": {},
   "source": [
    "# TD 3 | Computational Statistics | MVA 23-24\n",
    "### Meilame TAYEBJEE"
   ]
  },
  {
   "cell_type": "code",
   "execution_count": 11,
   "metadata": {},
   "outputs": [],
   "source": [
    "import numpy as np\n",
    "from matplotlib import pyplot as plt\n",
    "import scipy.stats as stats\n",
    "from numba import jit"
   ]
  },
  {
   "cell_type": "markdown",
   "metadata": {},
   "source": [
    "## Exercise 1: Hasting-Metropolis within Gibbs – Stochastic Approximation EM"
   ]
  },
  {
   "cell_type": "markdown",
   "metadata": {},
   "source": [
    "### Data generation"
   ]
  },
  {
   "cell_type": "code",
   "execution_count": 55,
   "metadata": {},
   "outputs": [
    {
     "data": {
      "text/plain": [
       "(100, 21)"
      ]
     },
     "execution_count": 55,
     "metadata": {},
     "output_type": "execute_result"
    }
   ],
   "source": [
    "#-----INPUTS-----#\n",
    "T = 5 # Time horizon\n",
    "\n",
    "p0 = 10\n",
    "\n",
    "sigma_t0 = 0.1\n",
    "sigma_v0 = 0.1\n",
    "\n",
    "s_t0 = 0.1\n",
    "s_v0 = 0.1\n",
    "\n",
    "t0_bar_bar = 1\n",
    "v0_bar_bar = 1\n",
    "\n",
    "m = 5\n",
    "m_ksi = 5\n",
    "m_tau = 5\n",
    "\n",
    "v = 1\n",
    "v_ksi = 1\n",
    "v_tau = 1\n",
    "\n",
    "N = 100\n",
    "k = 21\n",
    "\n",
    "ts = np.linspace(0, T, k).reshape((1,k))\n",
    "ts = np.repeat(ts, N, axis = 0)\n",
    "ts.shape\n"
   ]
  },
  {
   "cell_type": "code",
   "execution_count": 7,
   "metadata": {},
   "outputs": [],
   "source": [
    "#Data generation\n",
    "def generateData(p0 = p0, ts = ts, sigma_t0 = sigma_t0, sigma_v0 = sigma_v0, s_t0 = s_t0, s_v0 = s_v0, t0_bar_bar = t0_bar_bar, v0_bar_bar = v0_bar_bar, m = m, m_ksi = m_ksi, m_tau = m_tau, v = v, v_ksi= v_ksi, v_tau = v_tau, N = N, k = k):\n",
    "\n",
    "    t0_bar = np.random.normal(t0_bar_bar, sigma_t0, 1)\n",
    "    v0_bar = np.random.normal(v0_bar_bar, sigma_v0, 1)\n",
    "\n",
    "    sigma_ksi_sq = stats.invwishart.rvs(m_ksi, v_ksi**2)\n",
    "    sigma_tau_sq = stats.invwishart.rvs(m_tau, v_tau**2)\n",
    "    sigma_sq = stats.invwishart.rvs(m, v**2)\n",
    "\n",
    "    t0 = np.random.normal(t0_bar, sigma_t0, 1)\n",
    "    v0 = np.random.normal(v0_bar, sigma_v0, 1)\n",
    "\n",
    "    epsilon = np.random.normal(0, np.sqrt(sigma_sq), (N, k))\n",
    "    ksi = np.random.normal(0, np.sqrt(sigma_ksi_sq), (N,1))\n",
    "    alpha = np.exp(ksi)\n",
    "\n",
    "    tau = np.random.normal(0, np.sqrt(sigma_tau_sq), (N,1))\n",
    "\n",
    "    y = p0 + v0*np.repeat(alpha, k, axis =1)*(ts - t0 - np.repeat(tau, k, axis =1)) + epsilon\n",
    "\n",
    "    return y, alpha, tau, t0, v0, t0_bar, v0_bar, sigma_ksi_sq, sigma_tau_sq, sigma_sq, epsilon"
   ]
  },
  {
   "cell_type": "markdown",
   "metadata": {},
   "source": [
    "### Hastings-Metropolis Sampler"
   ]
  },
  {
   "cell_type": "code",
   "execution_count": 80,
   "metadata": {},
   "outputs": [],
   "source": [
    "def logTargetPosteriorZ(y, alpha, tau, t0, v0, t0_bar, v0_bar, sigma_ksi_sq, sigma_tau_sq, sigma_sq, ts = ts):\n",
    "    res = np.sum((y - p0 - v0*np.repeat(alpha.reshape((N,1)), k, axis =1)*(ts - t0 - np.repeat(tau.reshape((N,1)), k, axis =1)))**2) / (2*sigma_sq)\n",
    "    res += np.sum(np.log(alpha))\n",
    "    res += np.sum(np.square(np.log(alpha)))/(2*sigma_ksi_sq)\n",
    "    res += np.sum(np.square(tau)) / (2*sigma_tau_sq)\n",
    "    res += np.square(t0 - t0_bar) / (2*sigma_t0)\n",
    "    res += np.square(v0 - v0_bar) / (2*sigma_v0)\n",
    "\n",
    "    return -res\n",
    "\n",
    "\n",
    "\n",
    "def metropolisHastingSampler(y, alpha_init, tau_init, t0_init, v0_init, t0_bar, v0_bar, sigma_ksi_sq, sigma_tau_sq, sigma_sq, sigma_sq_prop, maxIter = 1000):\n",
    "\n",
    "    alpha = alpha_init\n",
    "    tau = tau_init\n",
    "    t0 = t0_init\n",
    "    v0 = v0_init\n",
    "\n",
    "    count = 0\n",
    "\n",
    "    for k in range(maxIter):\n",
    "        #Proposal\n",
    "        alpha_prop = np.random.multivariate_normal(alpha.reshape((N,)), sigma_sq_prop * np.identity(N))\n",
    "        tau_prop = np.random.multivariate_normal(tau.reshape((N,)), sigma_sq_prop * np.identity(N))\n",
    "        t0_prop = np.random.normal(t0, sigma_sq_prop)\n",
    "        v0_prop = np.random.normal(v0, sigma_sq_prop)\n",
    "\n",
    "        #Acceptance probability\n",
    "        logTargetProposition = logTargetPosteriorZ(y, alpha_prop, tau_prop, t0_prop, v0_prop, t0_bar, v0_bar, sigma_ksi_sq, sigma_tau_sq, sigma_sq)\n",
    "        logTargetCurrent = logTargetPosteriorZ(y, alpha, tau, t0, v0, t0_bar, v0_bar, sigma_ksi_sq, sigma_tau_sq, sigma_sq)\n",
    "        probAcceptance = min(1, np.exp(logTargetProposition - logTargetCurrent))\n",
    "        \n",
    "        #Toss the coin !\n",
    "        u = np.random.uniform(0,1)\n",
    "        if u < probAcceptance:\n",
    "            count += 1\n",
    "            alpha = alpha_prop\n",
    "            tau = tau_prop\n",
    "            t0 = t0_prop\n",
    "            v0 = v0_prop\n",
    "    \n",
    "    return alpha, tau, t0, v0, count/maxIter"
   ]
  },
  {
   "cell_type": "code",
   "execution_count": 82,
   "metadata": {},
   "outputs": [
    {
     "data": {
      "text/plain": [
       "0.427"
      ]
     },
     "execution_count": 82,
     "metadata": {},
     "output_type": "execute_result"
    }
   ],
   "source": [
    "y, alpha, tau, t0, v0, t0_bar, v0_bar, sigma_ksi_sq, sigma_tau_sq, sigma_sq, epsilon = generateData()\n",
    "metropolisHastingSampler(y, alpha, tau, t0, v0, t0_bar, v0_bar, sigma_ksi_sq, sigma_tau_sq, sigma_sq, 0.5*1e-4)[-1]"
   ]
  }
 ],
 "metadata": {
  "kernelspec": {
   "display_name": "base",
   "language": "python",
   "name": "python3"
  },
  "language_info": {
   "codemirror_mode": {
    "name": "ipython",
    "version": 3
   },
   "file_extension": ".py",
   "mimetype": "text/x-python",
   "name": "python",
   "nbconvert_exporter": "python",
   "pygments_lexer": "ipython3",
   "version": "3.8.5"
  }
 },
 "nbformat": 4,
 "nbformat_minor": 2
}
